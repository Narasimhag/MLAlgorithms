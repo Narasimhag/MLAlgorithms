{
 "cells": [
  {
   "cell_type": "markdown",
   "metadata": {},
   "source": [
    "## Name: Narasimha Gundavarapu\n",
    "## ID: 4784512020"
   ]
  },
  {
   "cell_type": "code",
   "execution_count": 1,
   "metadata": {},
   "outputs": [],
   "source": [
    "import numpy as np\n",
    "import matplotlib.pyplot as plt\n",
    "import pandas as pd\n",
    "import seaborn as sns"
   ]
  },
  {
   "cell_type": "markdown",
   "metadata": {},
   "source": [
    "# 1. Multi-class and Multi-Label Classification Using Support Vector Machines\n",
    "## (a) Download the Anuran Calls (MFCCs) Data Set from: https://archive.ics. uci.edu/ml/datasets/Anuran+Calls+%28MFCCs%29. Choose 70% of the data randomly as the training set."
   ]
  },
  {
   "cell_type": "code",
   "execution_count": 3,
   "metadata": {},
   "outputs": [],
   "source": [
    "from sklearn.model_selection import train_test_split\n",
    "df = pd.read_csv('../data/Frogs_MFCCs.csv')\n",
    "train_set, test_set = train_test_split(df, test_size=0.3, random_state=42)"
   ]
  },
  {
   "cell_type": "code",
   "execution_count": 4,
   "metadata": {},
   "outputs": [
    {
     "data": {
      "text/html": [
       "<div>\n",
       "<style scoped>\n",
       "    .dataframe tbody tr th:only-of-type {\n",
       "        vertical-align: middle;\n",
       "    }\n",
       "\n",
       "    .dataframe tbody tr th {\n",
       "        vertical-align: top;\n",
       "    }\n",
       "\n",
       "    .dataframe thead th {\n",
       "        text-align: right;\n",
       "    }\n",
       "</style>\n",
       "<table border=\"1\" class=\"dataframe\">\n",
       "  <thead>\n",
       "    <tr style=\"text-align: right;\">\n",
       "      <th></th>\n",
       "      <th>MFCCs_ 1</th>\n",
       "      <th>MFCCs_ 2</th>\n",
       "      <th>MFCCs_ 3</th>\n",
       "      <th>MFCCs_ 4</th>\n",
       "      <th>MFCCs_ 5</th>\n",
       "      <th>MFCCs_ 6</th>\n",
       "      <th>MFCCs_ 7</th>\n",
       "      <th>MFCCs_ 8</th>\n",
       "      <th>MFCCs_ 9</th>\n",
       "      <th>MFCCs_10</th>\n",
       "      <th>...</th>\n",
       "      <th>MFCCs_17</th>\n",
       "      <th>MFCCs_18</th>\n",
       "      <th>MFCCs_19</th>\n",
       "      <th>MFCCs_20</th>\n",
       "      <th>MFCCs_21</th>\n",
       "      <th>MFCCs_22</th>\n",
       "      <th>Family</th>\n",
       "      <th>Genus</th>\n",
       "      <th>Species</th>\n",
       "      <th>RecordID</th>\n",
       "    </tr>\n",
       "  </thead>\n",
       "  <tbody>\n",
       "    <tr>\n",
       "      <th>0</th>\n",
       "      <td>1.0</td>\n",
       "      <td>0.152936</td>\n",
       "      <td>-0.105586</td>\n",
       "      <td>0.200722</td>\n",
       "      <td>0.317201</td>\n",
       "      <td>0.260764</td>\n",
       "      <td>0.100945</td>\n",
       "      <td>-0.150063</td>\n",
       "      <td>-0.171128</td>\n",
       "      <td>0.124676</td>\n",
       "      <td>...</td>\n",
       "      <td>-0.108351</td>\n",
       "      <td>-0.077623</td>\n",
       "      <td>-0.009568</td>\n",
       "      <td>0.057684</td>\n",
       "      <td>0.118680</td>\n",
       "      <td>0.014038</td>\n",
       "      <td>Leptodactylidae</td>\n",
       "      <td>Adenomera</td>\n",
       "      <td>AdenomeraAndre</td>\n",
       "      <td>1</td>\n",
       "    </tr>\n",
       "    <tr>\n",
       "      <th>1</th>\n",
       "      <td>1.0</td>\n",
       "      <td>0.171534</td>\n",
       "      <td>-0.098975</td>\n",
       "      <td>0.268425</td>\n",
       "      <td>0.338672</td>\n",
       "      <td>0.268353</td>\n",
       "      <td>0.060835</td>\n",
       "      <td>-0.222475</td>\n",
       "      <td>-0.207693</td>\n",
       "      <td>0.170883</td>\n",
       "      <td>...</td>\n",
       "      <td>-0.090974</td>\n",
       "      <td>-0.056510</td>\n",
       "      <td>-0.035303</td>\n",
       "      <td>0.020140</td>\n",
       "      <td>0.082263</td>\n",
       "      <td>0.029056</td>\n",
       "      <td>Leptodactylidae</td>\n",
       "      <td>Adenomera</td>\n",
       "      <td>AdenomeraAndre</td>\n",
       "      <td>1</td>\n",
       "    </tr>\n",
       "    <tr>\n",
       "      <th>2</th>\n",
       "      <td>1.0</td>\n",
       "      <td>0.152317</td>\n",
       "      <td>-0.082973</td>\n",
       "      <td>0.287128</td>\n",
       "      <td>0.276014</td>\n",
       "      <td>0.189867</td>\n",
       "      <td>0.008714</td>\n",
       "      <td>-0.242234</td>\n",
       "      <td>-0.219153</td>\n",
       "      <td>0.232538</td>\n",
       "      <td>...</td>\n",
       "      <td>-0.050691</td>\n",
       "      <td>-0.023590</td>\n",
       "      <td>-0.066722</td>\n",
       "      <td>-0.025083</td>\n",
       "      <td>0.099108</td>\n",
       "      <td>0.077162</td>\n",
       "      <td>Leptodactylidae</td>\n",
       "      <td>Adenomera</td>\n",
       "      <td>AdenomeraAndre</td>\n",
       "      <td>1</td>\n",
       "    </tr>\n",
       "    <tr>\n",
       "      <th>3</th>\n",
       "      <td>1.0</td>\n",
       "      <td>0.224392</td>\n",
       "      <td>0.118985</td>\n",
       "      <td>0.329432</td>\n",
       "      <td>0.372088</td>\n",
       "      <td>0.361005</td>\n",
       "      <td>0.015501</td>\n",
       "      <td>-0.194347</td>\n",
       "      <td>-0.098181</td>\n",
       "      <td>0.270375</td>\n",
       "      <td>...</td>\n",
       "      <td>-0.136009</td>\n",
       "      <td>-0.177037</td>\n",
       "      <td>-0.130498</td>\n",
       "      <td>-0.054766</td>\n",
       "      <td>-0.018691</td>\n",
       "      <td>0.023954</td>\n",
       "      <td>Leptodactylidae</td>\n",
       "      <td>Adenomera</td>\n",
       "      <td>AdenomeraAndre</td>\n",
       "      <td>1</td>\n",
       "    </tr>\n",
       "    <tr>\n",
       "      <th>4</th>\n",
       "      <td>1.0</td>\n",
       "      <td>0.087817</td>\n",
       "      <td>-0.068345</td>\n",
       "      <td>0.306967</td>\n",
       "      <td>0.330923</td>\n",
       "      <td>0.249144</td>\n",
       "      <td>0.006884</td>\n",
       "      <td>-0.265423</td>\n",
       "      <td>-0.172700</td>\n",
       "      <td>0.266434</td>\n",
       "      <td>...</td>\n",
       "      <td>-0.048885</td>\n",
       "      <td>-0.053074</td>\n",
       "      <td>-0.088550</td>\n",
       "      <td>-0.031346</td>\n",
       "      <td>0.108610</td>\n",
       "      <td>0.079244</td>\n",
       "      <td>Leptodactylidae</td>\n",
       "      <td>Adenomera</td>\n",
       "      <td>AdenomeraAndre</td>\n",
       "      <td>1</td>\n",
       "    </tr>\n",
       "    <tr>\n",
       "      <th>...</th>\n",
       "      <td>...</td>\n",
       "      <td>...</td>\n",
       "      <td>...</td>\n",
       "      <td>...</td>\n",
       "      <td>...</td>\n",
       "      <td>...</td>\n",
       "      <td>...</td>\n",
       "      <td>...</td>\n",
       "      <td>...</td>\n",
       "      <td>...</td>\n",
       "      <td>...</td>\n",
       "      <td>...</td>\n",
       "      <td>...</td>\n",
       "      <td>...</td>\n",
       "      <td>...</td>\n",
       "      <td>...</td>\n",
       "      <td>...</td>\n",
       "      <td>...</td>\n",
       "      <td>...</td>\n",
       "      <td>...</td>\n",
       "      <td>...</td>\n",
       "    </tr>\n",
       "    <tr>\n",
       "      <th>7190</th>\n",
       "      <td>1.0</td>\n",
       "      <td>-0.554504</td>\n",
       "      <td>-0.337717</td>\n",
       "      <td>0.035533</td>\n",
       "      <td>0.034511</td>\n",
       "      <td>0.443451</td>\n",
       "      <td>0.093889</td>\n",
       "      <td>-0.100753</td>\n",
       "      <td>0.037087</td>\n",
       "      <td>0.081075</td>\n",
       "      <td>...</td>\n",
       "      <td>0.069430</td>\n",
       "      <td>0.071001</td>\n",
       "      <td>0.021591</td>\n",
       "      <td>0.052449</td>\n",
       "      <td>-0.021860</td>\n",
       "      <td>-0.079860</td>\n",
       "      <td>Hylidae</td>\n",
       "      <td>Scinax</td>\n",
       "      <td>ScinaxRuber</td>\n",
       "      <td>60</td>\n",
       "    </tr>\n",
       "    <tr>\n",
       "      <th>7191</th>\n",
       "      <td>1.0</td>\n",
       "      <td>-0.517273</td>\n",
       "      <td>-0.370574</td>\n",
       "      <td>0.030673</td>\n",
       "      <td>0.068097</td>\n",
       "      <td>0.402890</td>\n",
       "      <td>0.096628</td>\n",
       "      <td>-0.116460</td>\n",
       "      <td>0.063727</td>\n",
       "      <td>0.089034</td>\n",
       "      <td>...</td>\n",
       "      <td>0.061127</td>\n",
       "      <td>0.068978</td>\n",
       "      <td>0.017745</td>\n",
       "      <td>0.046461</td>\n",
       "      <td>-0.015418</td>\n",
       "      <td>-0.101892</td>\n",
       "      <td>Hylidae</td>\n",
       "      <td>Scinax</td>\n",
       "      <td>ScinaxRuber</td>\n",
       "      <td>60</td>\n",
       "    </tr>\n",
       "    <tr>\n",
       "      <th>7192</th>\n",
       "      <td>1.0</td>\n",
       "      <td>-0.582557</td>\n",
       "      <td>-0.343237</td>\n",
       "      <td>0.029468</td>\n",
       "      <td>0.064179</td>\n",
       "      <td>0.385596</td>\n",
       "      <td>0.114905</td>\n",
       "      <td>-0.103317</td>\n",
       "      <td>0.070370</td>\n",
       "      <td>0.081317</td>\n",
       "      <td>...</td>\n",
       "      <td>0.082474</td>\n",
       "      <td>0.077771</td>\n",
       "      <td>-0.009688</td>\n",
       "      <td>0.027834</td>\n",
       "      <td>-0.000531</td>\n",
       "      <td>-0.080425</td>\n",
       "      <td>Hylidae</td>\n",
       "      <td>Scinax</td>\n",
       "      <td>ScinaxRuber</td>\n",
       "      <td>60</td>\n",
       "    </tr>\n",
       "    <tr>\n",
       "      <th>7193</th>\n",
       "      <td>1.0</td>\n",
       "      <td>-0.519497</td>\n",
       "      <td>-0.307553</td>\n",
       "      <td>-0.004922</td>\n",
       "      <td>0.072865</td>\n",
       "      <td>0.377131</td>\n",
       "      <td>0.086866</td>\n",
       "      <td>-0.115799</td>\n",
       "      <td>0.056979</td>\n",
       "      <td>0.089316</td>\n",
       "      <td>...</td>\n",
       "      <td>0.051796</td>\n",
       "      <td>0.069073</td>\n",
       "      <td>0.017963</td>\n",
       "      <td>0.041803</td>\n",
       "      <td>-0.027911</td>\n",
       "      <td>-0.096895</td>\n",
       "      <td>Hylidae</td>\n",
       "      <td>Scinax</td>\n",
       "      <td>ScinaxRuber</td>\n",
       "      <td>60</td>\n",
       "    </tr>\n",
       "    <tr>\n",
       "      <th>7194</th>\n",
       "      <td>1.0</td>\n",
       "      <td>-0.508833</td>\n",
       "      <td>-0.324106</td>\n",
       "      <td>0.062068</td>\n",
       "      <td>0.078211</td>\n",
       "      <td>0.397188</td>\n",
       "      <td>0.094596</td>\n",
       "      <td>-0.117672</td>\n",
       "      <td>0.058874</td>\n",
       "      <td>0.076180</td>\n",
       "      <td>...</td>\n",
       "      <td>0.061455</td>\n",
       "      <td>0.072983</td>\n",
       "      <td>-0.003980</td>\n",
       "      <td>0.031560</td>\n",
       "      <td>-0.029355</td>\n",
       "      <td>-0.087910</td>\n",
       "      <td>Hylidae</td>\n",
       "      <td>Scinax</td>\n",
       "      <td>ScinaxRuber</td>\n",
       "      <td>60</td>\n",
       "    </tr>\n",
       "  </tbody>\n",
       "</table>\n",
       "<p>7195 rows × 26 columns</p>\n",
       "</div>"
      ],
      "text/plain": [
       "      MFCCs_ 1  MFCCs_ 2  MFCCs_ 3  MFCCs_ 4  MFCCs_ 5  MFCCs_ 6  MFCCs_ 7  \\\n",
       "0          1.0  0.152936 -0.105586  0.200722  0.317201  0.260764  0.100945   \n",
       "1          1.0  0.171534 -0.098975  0.268425  0.338672  0.268353  0.060835   \n",
       "2          1.0  0.152317 -0.082973  0.287128  0.276014  0.189867  0.008714   \n",
       "3          1.0  0.224392  0.118985  0.329432  0.372088  0.361005  0.015501   \n",
       "4          1.0  0.087817 -0.068345  0.306967  0.330923  0.249144  0.006884   \n",
       "...        ...       ...       ...       ...       ...       ...       ...   \n",
       "7190       1.0 -0.554504 -0.337717  0.035533  0.034511  0.443451  0.093889   \n",
       "7191       1.0 -0.517273 -0.370574  0.030673  0.068097  0.402890  0.096628   \n",
       "7192       1.0 -0.582557 -0.343237  0.029468  0.064179  0.385596  0.114905   \n",
       "7193       1.0 -0.519497 -0.307553 -0.004922  0.072865  0.377131  0.086866   \n",
       "7194       1.0 -0.508833 -0.324106  0.062068  0.078211  0.397188  0.094596   \n",
       "\n",
       "      MFCCs_ 8  MFCCs_ 9  MFCCs_10  ...  MFCCs_17  MFCCs_18  MFCCs_19  \\\n",
       "0    -0.150063 -0.171128  0.124676  ... -0.108351 -0.077623 -0.009568   \n",
       "1    -0.222475 -0.207693  0.170883  ... -0.090974 -0.056510 -0.035303   \n",
       "2    -0.242234 -0.219153  0.232538  ... -0.050691 -0.023590 -0.066722   \n",
       "3    -0.194347 -0.098181  0.270375  ... -0.136009 -0.177037 -0.130498   \n",
       "4    -0.265423 -0.172700  0.266434  ... -0.048885 -0.053074 -0.088550   \n",
       "...        ...       ...       ...  ...       ...       ...       ...   \n",
       "7190 -0.100753  0.037087  0.081075  ...  0.069430  0.071001  0.021591   \n",
       "7191 -0.116460  0.063727  0.089034  ...  0.061127  0.068978  0.017745   \n",
       "7192 -0.103317  0.070370  0.081317  ...  0.082474  0.077771 -0.009688   \n",
       "7193 -0.115799  0.056979  0.089316  ...  0.051796  0.069073  0.017963   \n",
       "7194 -0.117672  0.058874  0.076180  ...  0.061455  0.072983 -0.003980   \n",
       "\n",
       "      MFCCs_20  MFCCs_21  MFCCs_22           Family      Genus  \\\n",
       "0     0.057684  0.118680  0.014038  Leptodactylidae  Adenomera   \n",
       "1     0.020140  0.082263  0.029056  Leptodactylidae  Adenomera   \n",
       "2    -0.025083  0.099108  0.077162  Leptodactylidae  Adenomera   \n",
       "3    -0.054766 -0.018691  0.023954  Leptodactylidae  Adenomera   \n",
       "4    -0.031346  0.108610  0.079244  Leptodactylidae  Adenomera   \n",
       "...        ...       ...       ...              ...        ...   \n",
       "7190  0.052449 -0.021860 -0.079860          Hylidae     Scinax   \n",
       "7191  0.046461 -0.015418 -0.101892          Hylidae     Scinax   \n",
       "7192  0.027834 -0.000531 -0.080425          Hylidae     Scinax   \n",
       "7193  0.041803 -0.027911 -0.096895          Hylidae     Scinax   \n",
       "7194  0.031560 -0.029355 -0.087910          Hylidae     Scinax   \n",
       "\n",
       "             Species  RecordID  \n",
       "0     AdenomeraAndre         1  \n",
       "1     AdenomeraAndre         1  \n",
       "2     AdenomeraAndre         1  \n",
       "3     AdenomeraAndre         1  \n",
       "4     AdenomeraAndre         1  \n",
       "...              ...       ...  \n",
       "7190     ScinaxRuber        60  \n",
       "7191     ScinaxRuber        60  \n",
       "7192     ScinaxRuber        60  \n",
       "7193     ScinaxRuber        60  \n",
       "7194     ScinaxRuber        60  \n",
       "\n",
       "[7195 rows x 26 columns]"
      ]
     },
     "execution_count": 4,
     "metadata": {},
     "output_type": "execute_result"
    }
   ],
   "source": [
    "df"
   ]
  },
  {
   "cell_type": "code",
   "execution_count": 5,
   "metadata": {},
   "outputs": [
    {
     "data": {
      "text/plain": [
       "(5036, 26)"
      ]
     },
     "execution_count": 5,
     "metadata": {},
     "output_type": "execute_result"
    }
   ],
   "source": [
    "train_set.shape"
   ]
  },
  {
   "cell_type": "code",
   "execution_count": 6,
   "metadata": {},
   "outputs": [
    {
     "data": {
      "text/plain": [
       "(2159, 26)"
      ]
     },
     "execution_count": 6,
     "metadata": {},
     "output_type": "execute_result"
    }
   ],
   "source": [
    "test_set.shape"
   ]
  },
  {
   "cell_type": "markdown",
   "metadata": {},
   "source": [
    "## (b) Each instance has three labels: Families, Genus, and Species. Each of the labels has multiple classes. We wish to solve a multi-class and multi-label problem. One of the most important approaches to multi-class classification is to train a classifier for each label. We first try this approach:\n",
    "\n",
    "### i) Research exact match and hamming score/ loss methods for evaluating multi- label classification and use them in evaluating the classifiers in this problem."
   ]
  },
  {
   "cell_type": "markdown",
   "metadata": {},
   "source": [
    "Sources:\n",
    "1. https://towardsdatascience.com/journey-to-the-center-of-multi-label-classification-384c40229bff \n",
    "2. https://stats.stackexchange.com/q/168952 \n",
    "\n",
    "**Exact Match** - Also called subset accuracy, is the percentage of samples that have their labels predicted correctly. Predicted set of labels should exactly match with the true set of labels. This extends the notion of accuracy from single label case to multi label prediction. \n",
    "\n",
    "Exact Match Ratio MR = $\\frac{1}{n} \\sum_{i=1}^{n}I(Y_i=Z_i)$, \n",
    "where I is indicator function = {1, if $Y_i = Z_i$; 0, if not}.\n",
    "\n",
    "This metric is considered *harsh* as it doesn't distinguish between *completely incorrect* and *partially correct*. We can implement this in sklearn using `sklearn.metrics.accuracy_score`.\n",
    "\n",
    "**Hamming Loss** - This represents the fraction of labels that are incorrectly predicted. It reports on an average, the relevance of an example to a class label that is incorrectly predicted. It considers prediction error(*an incorrect label that is predicted*) and the missing error(*a relevant label not predicted*) normalized over total number of classes, k and total number of examples n.\n",
    "\n",
    "Hamming Loss, HL = $ \\frac{1}{kn} \\sum_{i=1}^{n} \\sum_{j=1}^{k}[I(j \\in Z_i \\Lambda j \\notin Y_i) + I(j \\notin Z_i \\Lambda j \\in Y_i)]$, where I is the indicator function.\n",
    "\n",
    "We can implement this in sklearn using `sklearn.metrics.hamming_loss`."
   ]
  },
  {
   "cell_type": "markdown",
   "metadata": {},
   "source": [
    "### ii. Train a SVM for each of the labels, using Gaussian kernels and one versus all classifiers. Determine the weight of the SVM penalty and the width of the Gaussian Kernel using 10 fold cross validation. You are welcome to try to solve the problem with both standardized 2 and raw attributes and report  the results.\n",
    "\n",
    "#### Raw"
   ]
  },
  {
   "cell_type": "code",
   "execution_count": 9,
   "metadata": {},
   "outputs": [
    {
     "name": "stdout",
     "output_type": "stream",
     "text": [
      "--------------------------\n",
      "For the metric: Exact Match\n",
      "--------------------------\n",
      "Best params for Family are {'C': 10.0, 'gamma': 2.2222777777777782}\n",
      "Accuracy withExact Matchfor Family is 0.9949050486336267\n",
      "***********************\n",
      "Best params for Genus are {'C': 4.6415888336127775, 'gamma': 2.777822222222223}\n",
      "Accuracy withExact Matchfor Genus is 0.9888837424733673\n",
      "***********************\n",
      "Best params for Species are {'C': 10.0, 'gamma': 2.777822222222223}\n",
      "Accuracy withExact Matchfor Species is 0.9888837424733673\n",
      "***********************\n",
      "--------------------------\n",
      "For the metric: Hamming Loss\n",
      "--------------------------\n",
      "Best params for Family are {'C': 0.1, 'gamma': 0.0001}\n",
      "Accuracy withHamming Lossfor Family is 0.3761000463177397\n",
      "***********************\n",
      "Best params for Genus are {'C': 0.1, 'gamma': 0.0001}\n",
      "Accuracy withHamming Lossfor Genus is 0.4205650764242705\n",
      "***********************\n",
      "Best params for Species are {'C': 0.1, 'gamma': 0.0001}\n",
      "Accuracy withHamming Lossfor Species is 0.5224641037517369\n",
      "***********************\n"
     ]
    }
   ],
   "source": [
    "from sklearn.svm import SVC\n",
    "from sklearn.model_selection import GridSearchCV\n",
    "from sklearn.metrics import accuracy_score, hamming_loss, make_scorer\n",
    "\n",
    "params = { 'C':np.logspace(-1, 2, 10), 'gamma':np.linspace(0.0001, 5, 10)}\n",
    "columns = df.columns\n",
    "X_train = train_set[columns[:22]].values\n",
    "X_test = test_set[columns[:22]].values\n",
    "svc = SVC(decision_function_shape='ovr')\n",
    "scorers = {'Exact Match' : make_scorer(accuracy_score), 'Hamming Loss' : make_scorer(hamming_loss)}\n",
    "loss_func = {'Exact Match' : accuracy_score, 'Hamming Loss': hamming_loss}\n",
    "for scorer in scorers:\n",
    "    print(\"--------------------------\")\n",
    "    print(\"For the metric: \" + scorer)\n",
    "    print(\"--------------------------\")\n",
    "    clf = GridSearchCV(svc, params, scoring=scorers[scorer], cv=10)\n",
    "    for col in columns[22:25].values:\n",
    "        y_train = train_set[col]\n",
    "        y_test = test_set[col]\n",
    "        clf.fit(X_train, y_train)\n",
    "        best_clf = clf.best_estimator_\n",
    "        y_pred = best_clf.predict(X_test)\n",
    "        print(\"Best params for \" + str(col) +\" are \" + str(clf.best_params_))\n",
    "        print(\"Accuracy with\" + scorer + \"for \"+ str(col) + \" is \" + str(loss_func[scorer](y_test, y_pred)))\n",
    "        print(\"***********************\")\n",
    "#hamming score\n",
    "#exact match score"
   ]
  },
  {
   "cell_type": "markdown",
   "metadata": {},
   "source": [
    "#### Standardized"
   ]
  },
  {
   "cell_type": "code",
   "execution_count": 10,
   "metadata": {},
   "outputs": [
    {
     "name": "stdout",
     "output_type": "stream",
     "text": [
      "--------------------------\n",
      "For the metric: Exact Match\n",
      "--------------------------\n",
      "Best params for Family are {'C': 2.1544346900318834, 'gamma': 0.5556444444444445}\n",
      "Accuracy withExact Matchfor Family is 0.9703566465956461\n",
      "***********************\n",
      "Best params for Genus are {'C': 100.0, 'gamma': 0.0001}\n",
      "Accuracy withExact Matchfor Genus is 0.9550717924965262\n",
      "***********************\n",
      "Best params for Species are {'C': 100.0, 'gamma': 0.0001}\n",
      "Accuracy withExact Matchfor Species is 0.9694302918017601\n",
      "***********************\n",
      "--------------------------\n",
      "For the metric: Hamming Loss\n",
      "--------------------------\n",
      "Best params for Family are {'C': 0.1, 'gamma': 0.0001}\n",
      "Accuracy withHamming Lossfor Family is 0.3761000463177397\n",
      "***********************\n",
      "Best params for Genus are {'C': 0.1, 'gamma': 0.0001}\n",
      "Accuracy withHamming Lossfor Genus is 0.4205650764242705\n",
      "***********************\n",
      "Best params for Species are {'C': 0.1, 'gamma': 0.0001}\n",
      "Accuracy withHamming Lossfor Species is 0.5224641037517369\n",
      "***********************\n"
     ]
    }
   ],
   "source": [
    "from sklearn.preprocessing import StandardScaler\n",
    "X_train = train_set[columns[:22]].values\n",
    "scaler = StandardScaler().fit(X_train)\n",
    "X_train_std = scaler.transform(X_train)\n",
    "X_test_std = scaler.transform(X_test)\n",
    "print(\"With Standardized Data-\")\n",
    "for scorer in scorers:\n",
    "    print(\"--------------------------\")\n",
    "    print(\"For the metric: \" + scorer)\n",
    "    print(\"--------------------------\")\n",
    "    clf = GridSearchCV(svc, params, scoring=scorers[scorer], cv=10)\n",
    "    for col in columns[22:25].values:\n",
    "        y_train = train_set[col]\n",
    "        y_test = test_set[col]\n",
    "        clf.fit(X_train_std, y_train)\n",
    "        best_clf = clf.best_estimator_\n",
    "        y_pred = best_clf.predict(X_test_std)\n",
    "        print(\"Best params for \" + str(col) +\" are \" + str(clf.best_params_))\n",
    "        print(\"Score with \" + scorer + \" for \"+ str(col) + \" is \" + str(loss_func[scorer](y_test, y_pred)))\n",
    "        print(\"***********************\")"
   ]
  },
  {
   "cell_type": "markdown",
   "metadata": {},
   "source": [
    "### iii. Repeat 1(b)ii with L1-penalized SVMs. Remember to standardize the attributes. Determine the weight of the SVM penalty using 10 fold cross validation."
   ]
  },
  {
   "cell_type": "code",
   "execution_count": 12,
   "metadata": {},
   "outputs": [
    {
     "name": "stdout",
     "output_type": "stream",
     "text": [
      "L1-penalized SVM-\n",
      "----------------------------\n",
      "For the metric: Exact Match\n",
      "----------------------------\n"
     ]
    },
    {
     "name": "stderr",
     "output_type": "stream",
     "text": [
      "/Users/narry/miniconda3/envs/ml/lib/python3.8/site-packages/sklearn/svm/_base.py:976: ConvergenceWarning: Liblinear failed to converge, increase the number of iterations.\n",
      "  warnings.warn(\"Liblinear failed to converge, increase \"\n"
     ]
    },
    {
     "name": "stdout",
     "output_type": "stream",
     "text": [
      "Best params for Family are {'C': 0.46415888336127786, 'tol': 0.0001}\n",
      "Exact Match for Family is 0.9277443260768874\n",
      "*************************\n"
     ]
    },
    {
     "name": "stderr",
     "output_type": "stream",
     "text": [
      "/Users/narry/miniconda3/envs/ml/lib/python3.8/site-packages/sklearn/svm/_base.py:976: ConvergenceWarning: Liblinear failed to converge, increase the number of iterations.\n",
      "  warnings.warn(\"Liblinear failed to converge, increase \"\n"
     ]
    },
    {
     "name": "stdout",
     "output_type": "stream",
     "text": [
      "Best params for Genus are {'C': 10.0, 'tol': 1e-06}\n",
      "Exact Match for Genus is 0.9416396479851783\n",
      "*************************\n"
     ]
    },
    {
     "name": "stderr",
     "output_type": "stream",
     "text": [
      "/Users/narry/miniconda3/envs/ml/lib/python3.8/site-packages/sklearn/svm/_base.py:976: ConvergenceWarning: Liblinear failed to converge, increase the number of iterations.\n",
      "  warnings.warn(\"Liblinear failed to converge, increase \"\n"
     ]
    },
    {
     "name": "stdout",
     "output_type": "stream",
     "text": [
      "Best params for Species are {'C': 2.1544346900318834, 'tol': 1e-06}\n",
      "Exact Match for Species is 0.9587772116720704\n",
      "*************************\n",
      "----------------------------\n",
      "For the metric: Hamming Loss\n",
      "----------------------------\n"
     ]
    },
    {
     "name": "stderr",
     "output_type": "stream",
     "text": [
      "/Users/narry/miniconda3/envs/ml/lib/python3.8/site-packages/sklearn/svm/_base.py:976: ConvergenceWarning: Liblinear failed to converge, increase the number of iterations.\n",
      "  warnings.warn(\"Liblinear failed to converge, increase \"\n"
     ]
    },
    {
     "name": "stdout",
     "output_type": "stream",
     "text": [
      "Best params for Family are {'C': 0.46415888336127786, 'tol': 1e-05}\n",
      "Hamming Loss for Family is 0.07225567392311255\n",
      "*************************\n"
     ]
    },
    {
     "name": "stderr",
     "output_type": "stream",
     "text": [
      "/Users/narry/miniconda3/envs/ml/lib/python3.8/site-packages/sklearn/svm/_base.py:976: ConvergenceWarning: Liblinear failed to converge, increase the number of iterations.\n",
      "  warnings.warn(\"Liblinear failed to converge, increase \"\n"
     ]
    },
    {
     "name": "stdout",
     "output_type": "stream",
     "text": [
      "Best params for Genus are {'C': 10.0, 'tol': 1e-06}\n",
      "Hamming Loss for Genus is 0.058360352014821676\n",
      "*************************\n",
      "Best params for Species are {'C': 2.1544346900318834, 'tol': 1e-06}\n",
      "Hamming Loss for Species is 0.04075961093098657\n",
      "*************************\n"
     ]
    },
    {
     "name": "stderr",
     "output_type": "stream",
     "text": [
      "/Users/narry/miniconda3/envs/ml/lib/python3.8/site-packages/sklearn/svm/_base.py:976: ConvergenceWarning: Liblinear failed to converge, increase the number of iterations.\n",
      "  warnings.warn(\"Liblinear failed to converge, increase \"\n"
     ]
    }
   ],
   "source": [
    "from sklearn.svm import LinearSVC\n",
    "\n",
    "params = {'C': np.logspace(-1,2,10), 'tol': [1e-6, 1e-5, 1e-4, 1e-3]}\n",
    "\n",
    "lin_svc = LinearSVC(penalty=\"l1\", dual=False) #as no.of features < no.of samples\n",
    "print(\"L1-penalized SVM-\")\n",
    "for scorer in scorers:\n",
    "    print(\"----------------------------\")\n",
    "    print(\"For the metric: \" + scorer)\n",
    "    print(\"----------------------------\")\n",
    "    clf = GridSearchCV(lin_svc, params, cv=10, n_jobs=-1)\n",
    "    for col in columns[22:25].values:\n",
    "        y_train = train_set[col]\n",
    "        y_test = test_set[col]\n",
    "        clf.fit(X_train_std, y_train)\n",
    "        best_clf = clf.best_estimator_\n",
    "        y_pred = best_clf.predict(X_test_std)\n",
    "        print(\"Best params for \" + str(col) +\" are \" + str(clf.best_params_))\n",
    "        print(scorer + \" for \"+ str(col) + \" is \" + str(loss_func[scorer](y_test, y_pred)))\n",
    "        print(\"*************************\")"
   ]
  },
  {
   "cell_type": "markdown",
   "metadata": {},
   "source": [
    "### iv. Repeat 1(b)iii by using SMOTE or any other method you know to remedy class imbalance. Report your conclusions about the classifiers you trained."
   ]
  },
  {
   "cell_type": "code",
   "execution_count": 13,
   "metadata": {},
   "outputs": [],
   "source": [
    "def warn(*args, **kwargs):\n",
    "    pass\n",
    "import warnings\n",
    "warnings.warn = warn"
   ]
  },
  {
   "cell_type": "code",
   "execution_count": 15,
   "metadata": {},
   "outputs": [
    {
     "name": "stdout",
     "output_type": "stream",
     "text": [
      "----------------------------\n",
      "For the metric: Exact Match\n",
      "----------------------------\n",
      "Best params for Family are {'C': 10.0, 'tol': 1e-06}\n",
      "Exact Match for Family is 0.9276169265033407\n",
      "*************************\n",
      "Best params for Genus are {'C': 100.0, 'tol': 1e-06}\n",
      "Exact Match for Genus is 0.945943245403677\n",
      "*************************\n",
      "Best params for Species are {'C': 46.41588833612777, 'tol': 1e-06}\n",
      "Exact Match for Species is 0.9580989330746847\n",
      "*************************\n",
      "----------------------------\n",
      "For the metric: Hamming Loss\n",
      "----------------------------\n",
      "Best params for Family are {'C': 10.0, 'tol': 1e-06}\n",
      "Hamming Loss for Family is 0.07238307349665925\n",
      "*************************\n",
      "Best params for Genus are {'C': 46.41588833612777, 'tol': 1e-06}\n",
      "Hamming Loss for Genus is 0.05405675459632294\n",
      "*************************\n",
      "Best params for Species are {'C': 4.6415888336127775, 'tol': 0.0001}\n",
      "Hamming Loss for Species is 0.04180407371483996\n",
      "*************************\n"
     ]
    }
   ],
   "source": [
    "from imblearn.over_sampling import SMOTE\n",
    "\n",
    "smote = SMOTE(random_state=2333)\n",
    "\n",
    "for scorer in scorers:\n",
    "    print(\"----------------------------\")\n",
    "    print(\"For the metric: \" + scorer)\n",
    "    print(\"----------------------------\")\n",
    "    clf = GridSearchCV(lin_svc, params, cv=10, n_jobs=-1)\n",
    "    for col in columns[22:25].values:\n",
    "        y_train = train_set[col]\n",
    "        y_test = test_set[col]\n",
    "        X_train_smote, y_train_smote = smote.fit_sample(X_train, y_train)\n",
    "        X_test_smote, y_test_smote = smote.fit_sample(X_test, y_test)\n",
    "        scaler = StandardScaler().fit(X_train_smote)\n",
    "        X_train_smote_std = scaler.transform(X_train_smote)\n",
    "        X_test_smote_std = scaler.transform(X_test_smote)\n",
    "        clf.fit(X_train_smote_std, y_train_smote)\n",
    "        best_clf = clf.best_estimator_\n",
    "        y_pred = best_clf.predict(X_test_smote_std)\n",
    "        print(\"Best params for \" + str(col) +\" are \" + str(clf.best_params_))\n",
    "        print(scorer + \" for \"+ str(col) + \" is \" + str(loss_func[scorer](y_test_smote, y_pred)))\n",
    "        print(\"*************************\")"
   ]
  },
  {
   "cell_type": "markdown",
   "metadata": {},
   "source": [
    "With gaussian kernel, we can observe that standardization decreases accuracy in exact match and while not significantly affecting hamming loss. With linear kernel we can see a very less decrease in exact match and slight increase in hamming loss, but nothing significant when SMOTE is applied."
   ]
  },
  {
   "cell_type": "markdown",
   "metadata": {},
   "source": [
    "# 2. K-Means Clustering on a Multi-Class and Multi-Label Data Set\n",
    "### Monte-Carlo Simulation: Perform the following procedures 50 times, and report the average and standard deviation of the 50 Hamming Distances that you calculate.\n",
    "### (a) Use k-means clustering on the whole Anuran Calls (MFCCs) Data Set (do not split the data into train and test, as we are not performing supervised learning in this exercise). Choose k ∈ {1, 2, . . . , 50} automatically based on one of the methods provided in the slides (CH or Gap Statistics or scree plots or Silhouettes) or any other method you know."
   ]
  },
  {
   "cell_type": "code",
   "execution_count": 37,
   "metadata": {},
   "outputs": [
    {
     "name": "stdout",
     "output_type": "stream",
     "text": [
      "Common K over 50 iterations4\n",
      "Average of hamming distance 50 iterations is: 0.2908066203545973\n",
      "Standard Deviation of hamming distance 50 iterations is: 0.06527973601154974\n"
     ]
    }
   ],
   "source": [
    "#https://piazza.com/class/kdfi4ly9oqy72y?cid=534_f2, definition of hamming distance; \n",
    "# The Hamming distance between two equal-length strings of symbols is the number of positions at which the corresponding symbols are different\n",
    "# And needs to be averaged out for whole data set, => sum of min distance between predicted centers and each point in X\n",
    "# averaged over the size of X, which is 7195\n",
    "\n",
    "#https://www.geeksforgeeks.org/python-find-most-frequent-element-in-a-list/\n",
    "from sklearn.cluster import KMeans\n",
    "from sklearn.metrics import silhouette_score\n",
    "from scipy.spatial.distance import cdist\n",
    "from statistics import mode \n",
    "  \n",
    "def most_frequent(List): \n",
    "    return(mode(List))\n",
    "\n",
    "X = df.iloc[:,:22].values\n",
    "y = df.iloc[:,22:25]\n",
    "\n",
    "silhouette_scores = []\n",
    "hamming_distance = []\n",
    "best_k = []\n",
    "for i in range(50):\n",
    "    ss = []\n",
    "    for k in range(2,51): #throws an error if k starts from one, so shifted by 1.\n",
    "        clf = KMeans(n_clusters=k, random_state=42)\n",
    "        labels = clf.fit_predict(X)\n",
    "        ss.append(silhouette_score(X, labels))\n",
    "        hamming_distance.append(sum(np.min(cdist(X, clf.cluster_centers_, 'euclidean'), axis=1))/7195)\n",
    "    \n",
    "    silhouette_scores.append(max(ss))\n",
    "    best_k.append(ss.index(max(ss)) + 2) #correcting the offset above\n",
    "\n",
    "print(\"Common K over 50 iterations \" + str(most_frequent(best_k)))\n",
    "print(\"Average of hamming distance 50 iterations is: \" + str(np.average(hamming_distance)))\n",
    "print(\"Standard Deviation of hamming distance 50 iterations is: \" + str(np.std(hamming_distance)))\n",
    "    "
   ]
  },
  {
   "cell_type": "markdown",
   "metadata": {},
   "source": [
    "### (b) In each cluster, determine which family is the majority by reading the true labels. Repeat for genus and species."
   ]
  },
  {
   "cell_type": "code",
   "execution_count": 69,
   "metadata": {},
   "outputs": [
    {
     "name": "stdout",
     "output_type": "stream",
     "text": [
      "Majority triplet printed in order [Family, Genus, Species]\n",
      "-----------------------------\n",
      "Iteration #1\n",
      "For cluster 0 majority triplet is [Dendrobatidae, Ameerega, Ameeregatrivittata]\n",
      "For cluster 1 majority triplet is [Leptodactylidae, Adenomera, AdenomeraHylaedactylus]\n",
      "For cluster 2 majority triplet is [Hylidae, Hypsiboas, HypsiboasCordobae]\n",
      "For cluster 3 majority triplet is [Hylidae, Hypsiboas, HypsiboasCinerascens]\n",
      "-----------------------------\n",
      "Iteration #2\n",
      "For cluster 0 majority triplet is [Leptodactylidae, Adenomera, AdenomeraHylaedactylus]\n",
      "For cluster 1 majority triplet is [Leptodactylidae, Adenomera, AdenomeraHylaedactylus]\n",
      "For cluster 2 majority triplet is [Hylidae, Hypsiboas, HypsiboasCordobae]\n",
      "For cluster 3 majority triplet is [Hylidae, Hypsiboas, Ameeregatrivittata]\n",
      "-----------------------------\n",
      "Iteration #3\n",
      "For cluster 0 majority triplet is [Leptodactylidae, Adenomera, AdenomeraHylaedactylus]\n",
      "For cluster 1 majority triplet is [Leptodactylidae, Adenomera, AdenomeraHylaedactylus]\n",
      "For cluster 2 majority triplet is [Hylidae, Hypsiboas, HypsiboasCordobae]\n",
      "For cluster 3 majority triplet is [Hylidae, Ameerega, Ameeregatrivittata]\n",
      "-----------------------------\n",
      "Iteration #4\n",
      "For cluster 0 majority triplet is [Leptodactylidae, Adenomera, AdenomeraHylaedactylus]\n",
      "For cluster 1 majority triplet is [Leptodactylidae, Adenomera, AdenomeraHylaedactylus]\n",
      "For cluster 2 majority triplet is [Hylidae, Hypsiboas, HypsiboasCordobae]\n",
      "For cluster 3 majority triplet is [Dendrobatidae, Ameerega, Ameeregatrivittata]\n",
      "-----------------------------\n",
      "Iteration #5\n",
      "For cluster 0 majority triplet is [Leptodactylidae, Adenomera, AdenomeraHylaedactylus]\n",
      "For cluster 1 majority triplet is [Leptodactylidae, Adenomera, AdenomeraHylaedactylus]\n",
      "For cluster 2 majority triplet is [Hylidae, Hypsiboas, HypsiboasCordobae]\n",
      "For cluster 3 majority triplet is [Hylidae, Hypsiboas, Ameeregatrivittata]\n",
      "-----------------------------\n",
      "Iteration #6\n",
      "For cluster 0 majority triplet is [Leptodactylidae, Adenomera, AdenomeraHylaedactylus]\n",
      "For cluster 1 majority triplet is [Leptodactylidae, Adenomera, AdenomeraHylaedactylus]\n",
      "For cluster 2 majority triplet is [Hylidae, Hypsiboas, HypsiboasCordobae]\n",
      "For cluster 3 majority triplet is [Hylidae, Ameerega, Ameeregatrivittata]\n",
      "-----------------------------\n",
      "Iteration #7\n",
      "For cluster 0 majority triplet is [Leptodactylidae, Adenomera, AdenomeraHylaedactylus]\n",
      "For cluster 1 majority triplet is [Leptodactylidae, Adenomera, AdenomeraHylaedactylus]\n",
      "For cluster 2 majority triplet is [Hylidae, Hypsiboas, HypsiboasCordobae]\n",
      "For cluster 3 majority triplet is [Hylidae, Ameerega, Ameeregatrivittata]\n",
      "-----------------------------\n",
      "Iteration #8\n",
      "For cluster 0 majority triplet is [Leptodactylidae, Adenomera, AdenomeraHylaedactylus]\n",
      "For cluster 1 majority triplet is [Leptodactylidae, Adenomera, AdenomeraHylaedactylus]\n",
      "For cluster 2 majority triplet is [Hylidae, Hypsiboas, HypsiboasCordobae]\n",
      "For cluster 3 majority triplet is [Hylidae, Ameerega, Ameeregatrivittata]\n",
      "-----------------------------\n",
      "Iteration #9\n",
      "For cluster 0 majority triplet is [Leptodactylidae, Adenomera, AdenomeraHylaedactylus]\n",
      "For cluster 1 majority triplet is [Leptodactylidae, Adenomera, AdenomeraHylaedactylus]\n",
      "For cluster 2 majority triplet is [Hylidae, Hypsiboas, HypsiboasCordobae]\n",
      "For cluster 3 majority triplet is [Hylidae, Hypsiboas, Ameeregatrivittata]\n",
      "-----------------------------\n",
      "Iteration #10\n",
      "For cluster 0 majority triplet is [Leptodactylidae, Adenomera, AdenomeraHylaedactylus]\n",
      "For cluster 1 majority triplet is [Leptodactylidae, Adenomera, AdenomeraHylaedactylus]\n",
      "For cluster 2 majority triplet is [Hylidae, Hypsiboas, HypsiboasCordobae]\n",
      "For cluster 3 majority triplet is [Hylidae, Hypsiboas, Ameeregatrivittata]\n",
      "-----------------------------\n",
      "Iteration #11\n",
      "For cluster 0 majority triplet is [Leptodactylidae, Adenomera, AdenomeraHylaedactylus]\n",
      "For cluster 1 majority triplet is [Leptodactylidae, Adenomera, AdenomeraHylaedactylus]\n",
      "For cluster 2 majority triplet is [Hylidae, Hypsiboas, HypsiboasCordobae]\n",
      "For cluster 3 majority triplet is [Leptodactylidae, Adenomera, AdenomeraHylaedactylus]\n",
      "-----------------------------\n",
      "Iteration #12\n",
      "For cluster 0 majority triplet is [Leptodactylidae, Adenomera, AdenomeraHylaedactylus]\n",
      "For cluster 1 majority triplet is [Leptodactylidae, Adenomera, AdenomeraHylaedactylus]\n",
      "For cluster 2 majority triplet is [Hylidae, Hypsiboas, HypsiboasCordobae]\n",
      "For cluster 3 majority triplet is [Hylidae, Adenomera, AdenomeraHylaedactylus]\n",
      "-----------------------------\n",
      "Iteration #13\n",
      "For cluster 0 majority triplet is [Leptodactylidae, Adenomera, AdenomeraHylaedactylus]\n",
      "For cluster 1 majority triplet is [Leptodactylidae, Adenomera, AdenomeraHylaedactylus]\n",
      "For cluster 2 majority triplet is [Hylidae, Hypsiboas, HypsiboasCordobae]\n",
      "For cluster 3 majority triplet is [Hylidae, Adenomera, AdenomeraHylaedactylus]\n",
      "-----------------------------\n",
      "Iteration #14\n",
      "For cluster 0 majority triplet is [Leptodactylidae, Adenomera, AdenomeraHylaedactylus]\n",
      "For cluster 1 majority triplet is [Leptodactylidae, Adenomera, AdenomeraHylaedactylus]\n",
      "For cluster 2 majority triplet is [Hylidae, Hypsiboas, HypsiboasCordobae]\n",
      "For cluster 3 majority triplet is [Hylidae, Adenomera, AdenomeraHylaedactylus]\n",
      "-----------------------------\n",
      "Iteration #15\n",
      "For cluster 0 majority triplet is [Leptodactylidae, Adenomera, AdenomeraHylaedactylus]\n",
      "For cluster 1 majority triplet is [Leptodactylidae, Adenomera, AdenomeraHylaedactylus]\n",
      "For cluster 2 majority triplet is [Hylidae, Hypsiboas, HypsiboasCordobae]\n",
      "For cluster 3 majority triplet is [Hylidae, Hypsiboas, HypsiboasCordobae]\n",
      "-----------------------------\n",
      "Iteration #16\n",
      "For cluster 0 majority triplet is [Leptodactylidae, Adenomera, AdenomeraHylaedactylus]\n",
      "For cluster 1 majority triplet is [Leptodactylidae, Adenomera, AdenomeraHylaedactylus]\n",
      "For cluster 2 majority triplet is [Hylidae, Hypsiboas, HypsiboasCordobae]\n",
      "For cluster 3 majority triplet is [Hylidae, Hypsiboas, HypsiboasCordobae]\n",
      "-----------------------------\n",
      "Iteration #17\n",
      "For cluster 0 majority triplet is [Leptodactylidae, Adenomera, AdenomeraHylaedactylus]\n",
      "For cluster 1 majority triplet is [Leptodactylidae, Adenomera, AdenomeraHylaedactylus]\n",
      "For cluster 2 majority triplet is [Hylidae, Hypsiboas, HypsiboasCordobae]\n",
      "For cluster 3 majority triplet is [Hylidae, Hypsiboas, HypsiboasCordobae]\n",
      "-----------------------------\n",
      "Iteration #18\n",
      "For cluster 0 majority triplet is [Leptodactylidae, Adenomera, AdenomeraHylaedactylus]\n",
      "For cluster 1 majority triplet is [Leptodactylidae, Adenomera, AdenomeraHylaedactylus]\n",
      "For cluster 2 majority triplet is [Hylidae, Hypsiboas, HypsiboasCordobae]\n",
      "For cluster 3 majority triplet is [Hylidae, Hypsiboas, HypsiboasCordobae]\n",
      "-----------------------------\n",
      "Iteration #19\n",
      "For cluster 0 majority triplet is [Leptodactylidae, Adenomera, AdenomeraHylaedactylus]\n",
      "For cluster 1 majority triplet is [Leptodactylidae, Adenomera, AdenomeraHylaedactylus]\n",
      "For cluster 2 majority triplet is [Hylidae, Hypsiboas, HypsiboasCordobae]\n",
      "For cluster 3 majority triplet is [Hylidae, Hypsiboas, HypsiboasCordobae]\n",
      "-----------------------------\n",
      "Iteration #20\n",
      "For cluster 0 majority triplet is [Leptodactylidae, Adenomera, AdenomeraHylaedactylus]\n",
      "For cluster 1 majority triplet is [Leptodactylidae, Adenomera, AdenomeraHylaedactylus]\n",
      "For cluster 2 majority triplet is [Hylidae, Hypsiboas, HypsiboasCordobae]\n",
      "For cluster 3 majority triplet is [Hylidae, Hypsiboas, HypsiboasCordobae]\n",
      "-----------------------------\n",
      "Iteration #21\n",
      "For cluster 0 majority triplet is [Leptodactylidae, Adenomera, AdenomeraHylaedactylus]\n",
      "For cluster 1 majority triplet is [Leptodactylidae, Adenomera, AdenomeraHylaedactylus]\n",
      "For cluster 2 majority triplet is [Hylidae, Adenomera, AdenomeraHylaedactylus]\n",
      "For cluster 3 majority triplet is [Hylidae, Hypsiboas, HypsiboasCordobae]\n",
      "-----------------------------\n",
      "Iteration #22\n",
      "For cluster 0 majority triplet is [Leptodactylidae, Adenomera, AdenomeraHylaedactylus]\n",
      "For cluster 1 majority triplet is [Leptodactylidae, Adenomera, AdenomeraHylaedactylus]\n",
      "For cluster 2 majority triplet is [Hylidae, Adenomera, HypsiboasCordobae]\n",
      "For cluster 3 majority triplet is [Hylidae, Hypsiboas, HypsiboasCordobae]\n",
      "-----------------------------\n",
      "Iteration #23\n",
      "For cluster 0 majority triplet is [Leptodactylidae, Adenomera, AdenomeraHylaedactylus]\n",
      "For cluster 1 majority triplet is [Leptodactylidae, Adenomera, AdenomeraHylaedactylus]\n",
      "For cluster 2 majority triplet is [Hylidae, Hypsiboas, HypsiboasCordobae]\n",
      "For cluster 3 majority triplet is [Hylidae, Hypsiboas, HypsiboasCordobae]\n",
      "-----------------------------\n",
      "Iteration #24\n"
     ]
    },
    {
     "name": "stdout",
     "output_type": "stream",
     "text": [
      "For cluster 0 majority triplet is [Leptodactylidae, Adenomera, AdenomeraHylaedactylus]\n",
      "For cluster 1 majority triplet is [Leptodactylidae, Adenomera, AdenomeraHylaedactylus]\n",
      "For cluster 2 majority triplet is [Leptodactylidae, Adenomera, AdenomeraHylaedactylus]\n",
      "For cluster 3 majority triplet is [Hylidae, Hypsiboas, HypsiboasCordobae]\n",
      "-----------------------------\n",
      "Iteration #25\n",
      "For cluster 0 majority triplet is [Leptodactylidae, Adenomera, AdenomeraHylaedactylus]\n",
      "For cluster 1 majority triplet is [Leptodactylidae, Adenomera, AdenomeraHylaedactylus]\n",
      "For cluster 2 majority triplet is [Leptodactylidae, Adenomera, AdenomeraHylaedactylus]\n",
      "For cluster 3 majority triplet is [Hylidae, Hypsiboas, HypsiboasCordobae]\n",
      "-----------------------------\n",
      "Iteration #26\n",
      "For cluster 0 majority triplet is [Leptodactylidae, Adenomera, AdenomeraHylaedactylus]\n",
      "For cluster 1 majority triplet is [Leptodactylidae, Adenomera, AdenomeraHylaedactylus]\n",
      "For cluster 2 majority triplet is [Leptodactylidae, Adenomera, AdenomeraHylaedactylus]\n",
      "For cluster 3 majority triplet is [Hylidae, Hypsiboas, HypsiboasCordobae]\n",
      "-----------------------------\n",
      "Iteration #27\n",
      "For cluster 0 majority triplet is [Leptodactylidae, Adenomera, AdenomeraHylaedactylus]\n",
      "For cluster 1 majority triplet is [Leptodactylidae, Adenomera, AdenomeraHylaedactylus]\n",
      "For cluster 2 majority triplet is [Leptodactylidae, Adenomera, AdenomeraHylaedactylus]\n",
      "For cluster 3 majority triplet is [Hylidae, Hypsiboas, HypsiboasCordobae]\n",
      "-----------------------------\n",
      "Iteration #28\n",
      "For cluster 0 majority triplet is [Leptodactylidae, Adenomera, AdenomeraHylaedactylus]\n",
      "For cluster 1 majority triplet is [Leptodactylidae, Adenomera, AdenomeraHylaedactylus]\n",
      "For cluster 2 majority triplet is [Leptodactylidae, Adenomera, AdenomeraHylaedactylus]\n",
      "For cluster 3 majority triplet is [Hylidae, Hypsiboas, HypsiboasCordobae]\n",
      "-----------------------------\n",
      "Iteration #29\n",
      "For cluster 0 majority triplet is [Leptodactylidae, Adenomera, AdenomeraHylaedactylus]\n",
      "For cluster 1 majority triplet is [Leptodactylidae, Adenomera, AdenomeraHylaedactylus]\n",
      "For cluster 2 majority triplet is [Leptodactylidae, Adenomera, AdenomeraHylaedactylus]\n",
      "For cluster 3 majority triplet is [Leptodactylidae, Adenomera, AdenomeraHylaedactylus]\n",
      "-----------------------------\n",
      "Iteration #30\n",
      "For cluster 0 majority triplet is [Leptodactylidae, Adenomera, AdenomeraHylaedactylus]\n",
      "For cluster 1 majority triplet is [Leptodactylidae, Adenomera, AdenomeraHylaedactylus]\n",
      "For cluster 2 majority triplet is [Leptodactylidae, Adenomera, AdenomeraHylaedactylus]\n",
      "For cluster 3 majority triplet is [Leptodactylidae, Adenomera, AdenomeraHylaedactylus]\n",
      "-----------------------------\n",
      "Iteration #31\n",
      "For cluster 0 majority triplet is [Leptodactylidae, Adenomera, AdenomeraHylaedactylus]\n",
      "For cluster 1 majority triplet is [Leptodactylidae, Adenomera, AdenomeraHylaedactylus]\n",
      "For cluster 2 majority triplet is [Leptodactylidae, Adenomera, AdenomeraHylaedactylus]\n",
      "For cluster 3 majority triplet is [Hylidae, Adenomera, AdenomeraHylaedactylus]\n",
      "-----------------------------\n",
      "Iteration #32\n",
      "For cluster 0 majority triplet is [Leptodactylidae, Adenomera, AdenomeraHylaedactylus]\n",
      "For cluster 1 majority triplet is [Leptodactylidae, Adenomera, AdenomeraHylaedactylus]\n",
      "For cluster 2 majority triplet is [Hylidae, Adenomera, AdenomeraHylaedactylus]\n",
      "For cluster 3 majority triplet is [Hylidae, Adenomera, AdenomeraHylaedactylus]\n",
      "-----------------------------\n",
      "Iteration #33\n",
      "For cluster 0 majority triplet is [Leptodactylidae, Adenomera, AdenomeraHylaedactylus]\n",
      "For cluster 1 majority triplet is [Leptodactylidae, Adenomera, AdenomeraHylaedactylus]\n",
      "For cluster 2 majority triplet is [Leptodactylidae, Adenomera, AdenomeraHylaedactylus]\n",
      "For cluster 3 majority triplet is [Hylidae, Adenomera, AdenomeraHylaedactylus]\n",
      "-----------------------------\n",
      "Iteration #34\n",
      "For cluster 0 majority triplet is [Leptodactylidae, Adenomera, AdenomeraHylaedactylus]\n",
      "For cluster 1 majority triplet is [Leptodactylidae, Adenomera, AdenomeraHylaedactylus]\n",
      "For cluster 2 majority triplet is [Leptodactylidae, Adenomera, AdenomeraHylaedactylus]\n",
      "For cluster 3 majority triplet is [Hylidae, Adenomera, AdenomeraHylaedactylus]\n",
      "-----------------------------\n",
      "Iteration #35\n",
      "For cluster 0 majority triplet is [Leptodactylidae, Adenomera, AdenomeraHylaedactylus]\n",
      "For cluster 1 majority triplet is [Leptodactylidae, Adenomera, AdenomeraHylaedactylus]\n",
      "For cluster 2 majority triplet is [Leptodactylidae, Adenomera, AdenomeraHylaedactylus]\n",
      "For cluster 3 majority triplet is [Hylidae, Adenomera, HypsiboasCordobae]\n",
      "-----------------------------\n",
      "Iteration #36\n",
      "For cluster 0 majority triplet is [Leptodactylidae, Adenomera, AdenomeraHylaedactylus]\n",
      "For cluster 1 majority triplet is [Leptodactylidae, Adenomera, AdenomeraHylaedactylus]\n",
      "For cluster 2 majority triplet is [Leptodactylidae, Adenomera, AdenomeraHylaedactylus]\n",
      "For cluster 3 majority triplet is [Hylidae, Adenomera, HypsiboasCordobae]\n",
      "-----------------------------\n",
      "Iteration #37\n",
      "For cluster 0 majority triplet is [Leptodactylidae, Adenomera, AdenomeraHylaedactylus]\n",
      "For cluster 1 majority triplet is [Leptodactylidae, Adenomera, AdenomeraHylaedactylus]\n",
      "For cluster 2 majority triplet is [Leptodactylidae, Adenomera, AdenomeraHylaedactylus]\n",
      "For cluster 3 majority triplet is [Hylidae, Adenomera, HypsiboasCordobae]\n",
      "-----------------------------\n",
      "Iteration #38\n",
      "For cluster 0 majority triplet is [Leptodactylidae, Adenomera, AdenomeraHylaedactylus]\n",
      "For cluster 1 majority triplet is [Leptodactylidae, Adenomera, AdenomeraHylaedactylus]\n",
      "For cluster 2 majority triplet is [Leptodactylidae, Adenomera, AdenomeraHylaedactylus]\n",
      "For cluster 3 majority triplet is [Hylidae, Adenomera, HypsiboasCordobae]\n",
      "-----------------------------\n",
      "Iteration #39\n",
      "For cluster 0 majority triplet is [Leptodactylidae, Adenomera, AdenomeraHylaedactylus]\n",
      "For cluster 1 majority triplet is [Leptodactylidae, Adenomera, AdenomeraHylaedactylus]\n",
      "For cluster 2 majority triplet is [Leptodactylidae, Adenomera, AdenomeraHylaedactylus]\n",
      "For cluster 3 majority triplet is [Hylidae, Hypsiboas, HypsiboasCordobae]\n",
      "-----------------------------\n",
      "Iteration #40\n",
      "For cluster 0 majority triplet is [Leptodactylidae, Adenomera, AdenomeraHylaedactylus]\n",
      "For cluster 1 majority triplet is [Leptodactylidae, Adenomera, AdenomeraHylaedactylus]\n",
      "For cluster 2 majority triplet is [Leptodactylidae, Adenomera, AdenomeraHylaedactylus]\n",
      "For cluster 3 majority triplet is [Hylidae, Hypsiboas, HypsiboasCordobae]\n",
      "-----------------------------\n",
      "Iteration #41\n",
      "For cluster 0 majority triplet is [Leptodactylidae, Adenomera, AdenomeraHylaedactylus]\n",
      "For cluster 1 majority triplet is [Leptodactylidae, Adenomera, AdenomeraHylaedactylus]\n",
      "For cluster 2 majority triplet is [Leptodactylidae, Adenomera, AdenomeraHylaedactylus]\n",
      "For cluster 3 majority triplet is [Hylidae, Hypsiboas, HypsiboasCordobae]\n",
      "-----------------------------\n",
      "Iteration #42\n",
      "For cluster 0 majority triplet is [Leptodactylidae, Adenomera, AdenomeraHylaedactylus]\n",
      "For cluster 1 majority triplet is [Leptodactylidae, Adenomera, AdenomeraHylaedactylus]\n",
      "For cluster 2 majority triplet is [Leptodactylidae, Adenomera, AdenomeraHylaedactylus]\n",
      "For cluster 3 majority triplet is [Hylidae, Hypsiboas, HypsiboasCordobae]\n",
      "-----------------------------\n",
      "Iteration #43\n",
      "For cluster 0 majority triplet is [Leptodactylidae, Adenomera, AdenomeraHylaedactylus]\n",
      "For cluster 1 majority triplet is [Leptodactylidae, Adenomera, AdenomeraHylaedactylus]\n",
      "For cluster 2 majority triplet is [Leptodactylidae, Adenomera, AdenomeraHylaedactylus]\n",
      "For cluster 3 majority triplet is [Hylidae, Hypsiboas, HypsiboasCordobae]\n",
      "-----------------------------\n",
      "Iteration #44\n",
      "For cluster 0 majority triplet is [Leptodactylidae, Adenomera, AdenomeraHylaedactylus]\n",
      "For cluster 1 majority triplet is [Leptodactylidae, Adenomera, AdenomeraHylaedactylus]\n",
      "For cluster 2 majority triplet is [Leptodactylidae, Adenomera, AdenomeraHylaedactylus]\n",
      "For cluster 3 majority triplet is [Hylidae, Hypsiboas, HypsiboasCordobae]\n",
      "-----------------------------\n",
      "Iteration #45\n",
      "For cluster 0 majority triplet is [Leptodactylidae, Adenomera, AdenomeraHylaedactylus]\n",
      "For cluster 1 majority triplet is [Leptodactylidae, Adenomera, AdenomeraHylaedactylus]\n",
      "For cluster 2 majority triplet is [Leptodactylidae, Adenomera, AdenomeraHylaedactylus]\n",
      "For cluster 3 majority triplet is [Hylidae, Hypsiboas, HypsiboasCordobae]\n",
      "-----------------------------\n",
      "Iteration #46\n"
     ]
    },
    {
     "name": "stdout",
     "output_type": "stream",
     "text": [
      "For cluster 0 majority triplet is [Leptodactylidae, Adenomera, AdenomeraHylaedactylus]\n",
      "For cluster 1 majority triplet is [Leptodactylidae, Adenomera, AdenomeraHylaedactylus]\n",
      "For cluster 2 majority triplet is [Leptodactylidae, Adenomera, AdenomeraHylaedactylus]\n",
      "For cluster 3 majority triplet is [Hylidae, Hypsiboas, HypsiboasCordobae]\n",
      "-----------------------------\n",
      "Iteration #47\n",
      "For cluster 0 majority triplet is [Leptodactylidae, Adenomera, AdenomeraHylaedactylus]\n",
      "For cluster 1 majority triplet is [Leptodactylidae, Adenomera, AdenomeraHylaedactylus]\n",
      "For cluster 2 majority triplet is [Leptodactylidae, Adenomera, AdenomeraHylaedactylus]\n",
      "For cluster 3 majority triplet is [Hylidae, Hypsiboas, HypsiboasCordobae]\n",
      "-----------------------------\n",
      "Iteration #48\n",
      "For cluster 0 majority triplet is [Leptodactylidae, Adenomera, AdenomeraHylaedactylus]\n",
      "For cluster 1 majority triplet is [Leptodactylidae, Adenomera, AdenomeraHylaedactylus]\n",
      "For cluster 2 majority triplet is [Leptodactylidae, Adenomera, AdenomeraHylaedactylus]\n",
      "For cluster 3 majority triplet is [Hylidae, Hypsiboas, HypsiboasCordobae]\n",
      "-----------------------------\n",
      "Iteration #49\n",
      "For cluster 0 majority triplet is [Leptodactylidae, Adenomera, AdenomeraHylaedactylus]\n",
      "For cluster 1 majority triplet is [Leptodactylidae, Adenomera, AdenomeraHylaedactylus]\n",
      "For cluster 2 majority triplet is [Leptodactylidae, Adenomera, AdenomeraHylaedactylus]\n",
      "For cluster 3 majority triplet is [Hylidae, Hypsiboas, HypsiboasCordobae]\n",
      "-----------------------------\n",
      "Iteration #50\n",
      "For cluster 0 majority triplet is [Leptodactylidae, Adenomera, AdenomeraHylaedactylus]\n",
      "For cluster 1 majority triplet is [Leptodactylidae, Adenomera, AdenomeraHylaedactylus]\n",
      "For cluster 2 majority triplet is [Leptodactylidae, Adenomera, AdenomeraHylaedactylus]\n",
      "For cluster 3 majority triplet is [Hylidae, Hypsiboas, HypsiboasCordobae]\n"
     ]
    }
   ],
   "source": [
    "#https://piazza.com/class/kdfi4ly9oqy72y?cid=585_f1\n",
    "#fixing k=4, found from above calculation\n",
    "from collections import defaultdict\n",
    "X = df.iloc[:,:22].values\n",
    "\n",
    "fam = defaultdict(list)\n",
    "gen = defaultdict(list)\n",
    "spec = defaultdict(list)\n",
    "print(\"Majority triplet printed in order [Family, Genus, Species]\")\n",
    "for i in range(50):\n",
    "    print(\"-----------------------------\")\n",
    "    print(\"Iteration #\" + str(i+1))\n",
    "    clf = KMeans(n_clusters=4, random_state=i) #introducing randomness every iteration\n",
    "    labels_pred = clf.fit_predict(X)\n",
    "    \n",
    "    for j in range(len(labels_pred)):\n",
    "        fam[labels_pred[j]].append(y['Family'][j])\n",
    "        gen[labels_pred[j]].append(y['Genus'][j])\n",
    "        spec[labels_pred[j]].append(y['Species'][j])\n",
    "    for label in set(labels_pred):\n",
    "        print(\"For cluster \" + str(label) + \" majority triplet is [\" + most_frequent(fam[label]) + \", \"\n",
    "             + most_frequent(gen[label]) + \", \" + most_frequent(spec[label]) + \"]\")\n"
   ]
  },
  {
   "cell_type": "markdown",
   "metadata": {},
   "source": [
    "### (c) Now for each cluster you have a majority label triplet (family, genus, species). Calculate the average Hamming distance, Hamming score, and Hamming loss between the true labels and the labels assigned by clusters."
   ]
  },
  {
   "cell_type": "code",
   "execution_count": 85,
   "metadata": {},
   "outputs": [
    {
     "name": "stdout",
     "output_type": "stream",
     "text": [
      "Average of hamming distance 0.4487862228710721\n",
      "Average of hamming loss 0.17023890454902743\n",
      "Average of hamming score 0.8297610954509724\n"
     ]
    }
   ],
   "source": [
    "hamming_loss = []\n",
    "hamming_distance = []\n",
    "fam = defaultdict(list)\n",
    "gen = defaultdict(list)\n",
    "spec = defaultdict(list)\n",
    "\n",
    "for i in range(50):\n",
    "    fcounter, gcounter, scounter = 0, 0 , 0\n",
    "    hl = list()\n",
    "    cluster = defaultdict(list)\n",
    "    clf = KMeans(n_clusters=4, random_state=i) #introducing randomness every iteration\n",
    "    labels_pred = clf.fit_predict(X)\n",
    "    hamming_distance.append(sum(np.min(cdist(X, clf.cluster_centers_, 'euclidean'), axis=1))/7195)\n",
    "    \n",
    "    for j in range(len(labels_pred)):\n",
    "        fam[labels_pred[j]].append(y['Family'][j])\n",
    "        gen[labels_pred[j]].append(y['Genus'][j])\n",
    "        spec[labels_pred[j]].append(y['Species'][j])\n",
    "    for label in set(labels_pred):\n",
    "        cluster[label].append([ most_frequent(fam[label]), most_frequent(gen[label]), most_frequent(spec[label]) ])\n",
    "        \n",
    "    for i,label in enumerate(labels_pred):\n",
    "#         if(cluster[label][0][0] != y['Family'][i] or cluster[label][0][1] != y['Genus'][i] or cluster[label][0][2] != y['Species'][i]):\n",
    "#             fcounter += 1\n",
    "        if(cluster[label][0][0] != y['Family'][i]):\n",
    "            fcounter += 1\n",
    "        if(cluster[label][0][1] != y['Genus'][i]):\n",
    "            gcounter += 1\n",
    "        if(cluster[label][0][2] != y['Species'][i]):\n",
    "            scounter += 1\n",
    "        hl.append((fcounter + gcounter + scounter) / 3)\n",
    "    \n",
    "    hamming_loss.append(np.array(hl)/7195)\n",
    "\n",
    "print(\"Average of hamming distance \" + str(np.average(hamming_distance)))\n",
    "print(\"Average of hamming loss \" + str(np.average(hamming_loss)))\n",
    "print(\"Average of hamming score \" + str(np.average(1 - np.array(hamming_loss))))\n",
    "            "
   ]
  },
  {
   "cell_type": "markdown",
   "metadata": {},
   "source": [
    "# 3. ISLR 10.7.2\n",
    "### Suppose that we have four observations, for which we compute a dissimilarity matrix, given by $$ \\begin{bmatrix}  & 0.3 & 0.4 & 0.7\\\\\n",
    "0.3 & & 0.5 & 0.8\\\\\n",
    "0.4 & 0.5 & & 0.45\\\\\n",
    "0.7 & 0.8 & 0.45 & \\\\\n",
    "\\end{bmatrix}$$\n",
    "### For instance, the dissimilarity between the first and second observations is 0.3, and the dissimilarity between the second and fourth observations is 0.8.\n",
    "#### (a) On the basis of this dissimilarity matrix, sketch the dendrogram that results from hierarchically clustering these four observa- tions using complete linkage. Be sure to indicate on the plot the height at which each fusion occurs, as well as the observations corresponding to each leaf in the dendrogram."
   ]
  },
  {
   "cell_type": "code",
   "execution_count": 95,
   "metadata": {},
   "outputs": [
    {
     "data": {
      "text/plain": [
       "{'icoord': [[5.0, 5.0, 15.0, 15.0],\n",
       "  [25.0, 25.0, 35.0, 35.0],\n",
       "  [10.0, 10.0, 30.0, 30.0]],\n",
       " 'dcoord': [[0.0, 0.4472135954999579, 0.4472135954999579, 0.0],\n",
       "  [0.0, 0.7648529270389177, 0.7648529270389177, 0.0],\n",
       "  [0.4472135954999579,\n",
       "   1.2010412149464313,\n",
       "   1.2010412149464313,\n",
       "   0.7648529270389177]],\n",
       " 'ivl': ['0', '1', '2', '3'],\n",
       " 'leaves': [0, 1, 2, 3],\n",
       " 'color_list': ['C1', 'C2', 'C0']}"
      ]
     },
     "execution_count": 95,
     "metadata": {},
     "output_type": "execute_result"
    },
    {
     "data": {
      "image/png": "[encoded data removed]",
      "text/plain": [
       "<Figure size 432x288 with 1 Axes>"
      ]
     },
     "metadata": {
      "needs_background": "light"
     },
     "output_type": "display_data"
    }
   ],
   "source": [
    "from scipy.cluster.hierarchy import dendrogram, linkage\n",
    "\n",
    "arr = np.array([[0, 0.3, 0.4, 0.7], [0.3, 0, 0.5, 0.8], [0.4, 0.5, 0, 0.45], [0.7, 0.8, 0.45, 0]])\n",
    "dendrogram(linkage(arr, 'complete'))"
   ]
  },
  {
   "cell_type": "markdown",
   "metadata": {},
   "source": [
    "#### (b) Repeat (a), this time using single linkage clustering."
   ]
  },
  {
   "cell_type": "code",
   "execution_count": 96,
   "metadata": {},
   "outputs": [
    {
     "data": {
      "text/plain": [
       "{'icoord': [[25.0, 25.0, 35.0, 35.0],\n",
       "  [15.0, 15.0, 30.0, 30.0],\n",
       "  [5.0, 5.0, 22.5, 22.5]],\n",
       " 'dcoord': [[0.0, 0.4472135954999579, 0.4472135954999579, 0.0],\n",
       "  [0.0, 0.65, 0.65, 0.4472135954999579],\n",
       "  [0.0, 0.7648529270389177, 0.7648529270389177, 0.65]],\n",
       " 'ivl': ['3', '2', '0', '1'],\n",
       " 'leaves': [3, 2, 0, 1],\n",
       " 'color_list': ['C1', 'C0', 'C0']}"
      ]
     },
     "execution_count": 96,
     "metadata": {},
     "output_type": "execute_result"
    },
    {
     "data": {
      "image/png": "[encoded data removed]",
      "text/plain": [
       "<Figure size 432x288 with 1 Axes>"
      ]
     },
     "metadata": {
      "needs_background": "light"
     },
     "output_type": "display_data"
    }
   ],
   "source": [
    "dendrogram(linkage(arr, 'single'))"
   ]
  },
  {
   "cell_type": "markdown",
   "metadata": {},
   "source": [
    "#### (c) Suppose that we cut the dendogram obtained in (a) such that two clusters result. Which observations are in each cluster?"
   ]
  },
  {
   "cell_type": "markdown",
   "metadata": {},
   "source": [
    "Cutting (a) resulting in two clusters, gives the clusters with values (0, 1) and (2, 3)."
   ]
  },
  {
   "cell_type": "markdown",
   "metadata": {},
   "source": [
    "#### (d) Suppose that we cut the dendogram obtained in (b) such that two clusters result. Which observations are in each cluster?\n",
    "Cutting (b) resulting in two clusters, gives the clusters with observations (3) and (2, 0, 1)."
   ]
  },
  {
   "cell_type": "markdown",
   "metadata": {},
   "source": [
    "####  (e) It is mentioned in the chapter that at each fusion in the den- drogram, the position of the two clusters being fused can be swapped without changing the meaning of the dendrogram. Draw a dendrogram that is equivalent to the dendrogram in (a), for which two or more of the leaves are repositioned, but for which the meaning of the dendrogram is the same."
   ]
  },
  {
   "cell_type": "code",
   "execution_count": 98,
   "metadata": {},
   "outputs": [
    {
     "data": {
      "text/plain": [
       "{'icoord': [[5.0, 5.0, 15.0, 15.0],\n",
       "  [25.0, 25.0, 35.0, 35.0],\n",
       "  [10.0, 10.0, 30.0, 30.0]],\n",
       " 'dcoord': [[0.0, 0.4472135954999579, 0.4472135954999579, 0.0],\n",
       "  [0.0, 0.7648529270389177, 0.7648529270389177, 0.0],\n",
       "  [0.4472135954999579,\n",
       "   1.2010412149464313,\n",
       "   1.2010412149464313,\n",
       "   0.7648529270389177]],\n",
       " 'ivl': [2, 3, 0, 1],\n",
       " 'leaves': [0, 1, 2, 3],\n",
       " 'color_list': ['C1', 'C2', 'C0']}"
      ]
     },
     "execution_count": 98,
     "metadata": {},
     "output_type": "execute_result"
    },
    {
     "data": {
      "image/png": "[encoded data removed]",
      "text/plain": [
       "<Figure size 432x288 with 1 Axes>"
      ]
     },
     "metadata": {
      "needs_background": "light"
     },
     "output_type": "display_data"
    }
   ],
   "source": [
    "dendrogram(linkage(arr, 'complete'), labels=[2,3,0,1])"
   ]
  }
 ],
 "metadata": {
  "kernelspec": {
   "display_name": "Python 3",
   "language": "python",
   "name": "python3"
  },
  "language_info": {
   "codemirror_mode": {
    "name": "ipython",
    "version": 3
   },
   "file_extension": ".py",
   "mimetype": "text/x-python",
   "name": "python",
   "nbconvert_exporter": "python",
   "pygments_lexer": "ipython3",
   "version": "3.8.5"
  }
 },
 "nbformat": 4,
 "nbformat_minor": 4
}
